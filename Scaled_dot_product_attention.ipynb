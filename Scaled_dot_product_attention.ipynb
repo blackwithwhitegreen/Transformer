{
  "nbformat": 4,
  "nbformat_minor": 0,
  "metadata": {
    "colab": {
      "provenance": [],
      "authorship_tag": "ABX9TyNKwxOnqkb/ncuJu9uVCt4j",
      "include_colab_link": true
    },
    "kernelspec": {
      "name": "python3",
      "display_name": "Python 3"
    },
    "language_info": {
      "name": "python"
    }
  },
  "cells": [
    {
      "cell_type": "markdown",
      "metadata": {
        "id": "view-in-github",
        "colab_type": "text"
      },
      "source": [
        "<a href=\"https://colab.research.google.com/github/blackwithwhitegreen/Transformer/blob/main/Scaled_dot_product_attention.ipynb\" target=\"_parent\"><img src=\"https://colab.research.google.com/assets/colab-badge.svg\" alt=\"Open In Colab\"/></a>"
      ]
    },
    {
      "cell_type": "code",
      "execution_count": null,
      "metadata": {
        "id": "s6p5GEM2aJuZ"
      },
      "outputs": [],
      "source": [
        "import torch\n",
        "import torch.nn.functional as F\n",
        "\n",
        "def scaled_dot_product_attention(Q, K, V, mask=None):\n",
        "    return (lambda d_k, scores, attention_weights: (torch.matmul(attention_weights, V), attention_weights))(\n",
        "        Q.shape[-1],\n",
        "        torch.matmul(Q, K.transpose(-2, -1)) / torch.sqrt(torch.tensor(Q.shape[-1], dtype=torch.float32)),\n",
        "        F.softmax(torch.matmul(Q, K.transpose(-2, -1)) / torch.sqrt(torch.tensor(Q.shape[-1], dtype=torch.float32)), dim=-1)\n",
        "    )\n",
        "\n",
        "# Example usage\n",
        "batch_size, num_heads, seq_len, d_k, d_v = 2, 4, 5, 8, 8\n",
        "Q, K, V = (torch.rand(batch_size, num_heads, seq_len, d) for d in (d_k, d_k, d_v))\n",
        "output, weights = scaled_dot_product_attention(Q, K, V)\n",
        "print(\"Attention Output:\", output)\n",
        "print(\"Attention Weights:\", weights)"
      ]
    }
  ]
}